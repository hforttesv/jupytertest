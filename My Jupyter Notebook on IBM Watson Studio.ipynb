{
  "metadata": {
    "kernelspec": {
      "name": "python",
      "display_name": "Pyolite",
      "language": "python"
    },
    "language_info": {
      "codemirror_mode": {
        "name": "python",
        "version": 3
      },
      "file_extension": ".py",
      "mimetype": "text/x-python",
      "name": "python",
      "nbconvert_exporter": "python",
      "pygments_lexer": "ipython3",
      "version": "3.8"
    }
  },
  "nbformat_minor": 4,
  "nbformat": 4,
  "cells": [
    {
      "cell_type": "markdown",
      "source": "# My Jupyter Notebook on IBM Watson Studio",
      "metadata": {}
    },
    {
      "cell_type": "markdown",
      "source": "**Hernan Forttes**\n\nCommercial Manager",
      "metadata": {}
    },
    {
      "cell_type": "markdown",
      "source": "*I am interested in data science because I love to resolve problems through technology*",
      "metadata": {}
    },
    {
      "cell_type": "markdown",
      "source": "### Input code - Output code in cell 5",
      "metadata": {}
    },
    {
      "cell_type": "code",
      "source": "1+1",
      "metadata": {
        "trusted": true
      },
      "execution_count": 2,
      "outputs": [
        {
          "execution_count": 2,
          "output_type": "execute_result",
          "data": {
            "text/plain": "2"
          },
          "metadata": {}
        }
      ]
    },
    {
      "cell_type": "markdown",
      "source": "![PIC](https://revistamarina.cl/storage/app/media/uploaded-files/figura-1-2.jpg)",
      "metadata": {}
    },
    {
      "cell_type": "markdown",
      "source": "<a>https://www.google.com</a>",
      "metadata": {}
    },
    {
      "cell_type": "markdown",
      "source": "| header | header | header |\n| ------ | ------ | ------ |\n| cell | cell | cell |\n| ------ | ------ | ------ |\n| cell | cell | cell |\n| ------ | ------ | ------ |\n| cell | cell | cell |\n| ------ | ------ | ------ |\n| cell | cell | cell |    ",
      "metadata": {}
    }
  ]
}